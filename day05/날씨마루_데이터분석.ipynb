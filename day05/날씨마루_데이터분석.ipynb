{
 "cells": [
  {
   "cell_type": "markdown",
   "metadata": {},
   "source": [
    "#### 히스토그램"
   ]
  },
  {
   "cell_type": "code",
   "execution_count": 8,
   "metadata": {},
   "outputs": [],
   "source": [
    "import pandas as pd \n",
    "import seaborn as sns\n",
    "import matplotlib.pyplot as plt "
   ]
  },
  {
   "cell_type": "code",
   "execution_count": 2,
   "metadata": {},
   "outputs": [
    {
     "data": {
      "text/html": [
       "<div>\n",
       "<style scoped>\n",
       "    .dataframe tbody tr th:only-of-type {\n",
       "        vertical-align: middle;\n",
       "    }\n",
       "\n",
       "    .dataframe tbody tr th {\n",
       "        vertical-align: top;\n",
       "    }\n",
       "\n",
       "    .dataframe thead th {\n",
       "        text-align: right;\n",
       "    }\n",
       "</style>\n",
       "<table border=\"1\" class=\"dataframe\">\n",
       "  <thead>\n",
       "    <tr style=\"text-align: right;\">\n",
       "      <th></th>\n",
       "      <th>TM</th>\n",
       "      <th>CA_TOT</th>\n",
       "      <th>HM_AVG</th>\n",
       "      <th>RN_DAY</th>\n",
       "    </tr>\n",
       "  </thead>\n",
       "  <tbody>\n",
       "    <tr>\n",
       "      <th>0</th>\n",
       "      <td>20150101</td>\n",
       "      <td>3.4</td>\n",
       "      <td>51.1</td>\n",
       "      <td>0.1</td>\n",
       "    </tr>\n",
       "    <tr>\n",
       "      <th>1</th>\n",
       "      <td>20150102</td>\n",
       "      <td>3.1</td>\n",
       "      <td>53.6</td>\n",
       "      <td>0.0</td>\n",
       "    </tr>\n",
       "    <tr>\n",
       "      <th>2</th>\n",
       "      <td>20150103</td>\n",
       "      <td>3.7</td>\n",
       "      <td>59.6</td>\n",
       "      <td>-9.0</td>\n",
       "    </tr>\n",
       "    <tr>\n",
       "      <th>3</th>\n",
       "      <td>20150104</td>\n",
       "      <td>3.1</td>\n",
       "      <td>68.8</td>\n",
       "      <td>-9.0</td>\n",
       "    </tr>\n",
       "    <tr>\n",
       "      <th>4</th>\n",
       "      <td>20150105</td>\n",
       "      <td>6.5</td>\n",
       "      <td>79.4</td>\n",
       "      <td>2.0</td>\n",
       "    </tr>\n",
       "    <tr>\n",
       "      <th>...</th>\n",
       "      <td>...</td>\n",
       "      <td>...</td>\n",
       "      <td>...</td>\n",
       "      <td>...</td>\n",
       "    </tr>\n",
       "    <tr>\n",
       "      <th>360</th>\n",
       "      <td>20151227</td>\n",
       "      <td>0.0</td>\n",
       "      <td>40.6</td>\n",
       "      <td>-9.0</td>\n",
       "    </tr>\n",
       "    <tr>\n",
       "      <th>361</th>\n",
       "      <td>20151228</td>\n",
       "      <td>2.1</td>\n",
       "      <td>36.5</td>\n",
       "      <td>-9.0</td>\n",
       "    </tr>\n",
       "    <tr>\n",
       "      <th>362</th>\n",
       "      <td>20151229</td>\n",
       "      <td>3.0</td>\n",
       "      <td>47.3</td>\n",
       "      <td>-9.0</td>\n",
       "    </tr>\n",
       "    <tr>\n",
       "      <th>363</th>\n",
       "      <td>20151230</td>\n",
       "      <td>4.3</td>\n",
       "      <td>61.0</td>\n",
       "      <td>0.6</td>\n",
       "    </tr>\n",
       "    <tr>\n",
       "      <th>364</th>\n",
       "      <td>20151231</td>\n",
       "      <td>4.0</td>\n",
       "      <td>72.3</td>\n",
       "      <td>-9.0</td>\n",
       "    </tr>\n",
       "  </tbody>\n",
       "</table>\n",
       "<p>365 rows × 4 columns</p>\n",
       "</div>"
      ],
      "text/plain": [
       "           TM  CA_TOT  HM_AVG  RN_DAY\n",
       "0    20150101     3.4    51.1     0.1\n",
       "1    20150102     3.1    53.6     0.0\n",
       "2    20150103     3.7    59.6    -9.0\n",
       "3    20150104     3.1    68.8    -9.0\n",
       "4    20150105     6.5    79.4     2.0\n",
       "..        ...     ...     ...     ...\n",
       "360  20151227     0.0    40.6    -9.0\n",
       "361  20151228     2.1    36.5    -9.0\n",
       "362  20151229     3.0    47.3    -9.0\n",
       "363  20151230     4.3    61.0     0.6\n",
       "364  20151231     4.0    72.3    -9.0\n",
       "\n",
       "[365 rows x 4 columns]"
      ]
     },
     "execution_count": 2,
     "metadata": {},
     "output_type": "execute_result"
    }
   ],
   "source": [
    "mydata = pd.read_csv('./data/mydata.csv', encoding='utf-8')\n",
    "mydata"
   ]
  },
  {
   "cell_type": "code",
   "execution_count": 16,
   "metadata": {},
   "outputs": [
    {
     "data": {
      "image/png": "[encoded data removed]",
      "text/plain": [
       "<Figure size 432x288 with 1 Axes>"
      ]
     },
     "metadata": {
      "needs_background": "light"
     },
     "output_type": "display_data"
    }
   ],
   "source": [
    "# 히스토그램 평균습도의 범위\n",
    "# mydata['HM_AVG'].hist()\n",
    "\n",
    "plt.rcParams['font.family'] = 'NanumBarunGothic'\n",
    "plt.hist(mydata['HM_AVG'], bins=10)\n",
    "plt.title('평균 습도')\n",
    "plt.grid(True)\n",
    "plt.show()"
   ]
  },
  {
   "cell_type": "code",
   "execution_count": 18,
   "metadata": {},
   "outputs": [
    {
     "data": {
      "text/plain": [
       "<AxesSubplot:xlabel='HM_AVG'>"
      ]
     },
     "execution_count": 18,
     "metadata": {},
     "output_type": "execute_result"
    },
    {
     "data": {
      "image/png": "[encoded data removed]",
      "text/plain": [
       "<Figure size 720x360 with 1 Axes>"
      ]
     },
     "metadata": {
      "needs_background": "light"
     },
     "output_type": "display_data"
    }
   ],
   "source": [
    "plt.figure(figsize=(10,5))\n",
    "sns.distplot(mydata['HM_AVG'], bins=10, kde=False)"
   ]
  },
  {
   "cell_type": "code",
   "execution_count": 21,
   "metadata": {},
   "outputs": [
    {
     "data": {
      "text/html": [
       "<div>\n",
       "<style scoped>\n",
       "    .dataframe tbody tr th:only-of-type {\n",
       "        vertical-align: middle;\n",
       "    }\n",
       "\n",
       "    .dataframe tbody tr th {\n",
       "        vertical-align: top;\n",
       "    }\n",
       "\n",
       "    .dataframe thead th {\n",
       "        text-align: right;\n",
       "    }\n",
       "</style>\n",
       "<table border=\"1\" class=\"dataframe\">\n",
       "  <thead>\n",
       "    <tr style=\"text-align: right;\">\n",
       "      <th></th>\n",
       "      <th>TM</th>\n",
       "      <th>CA_TOT</th>\n",
       "      <th>HM_AVG</th>\n",
       "      <th>RN_DAY</th>\n",
       "    </tr>\n",
       "  </thead>\n",
       "  <tbody>\n",
       "    <tr>\n",
       "      <th>0</th>\n",
       "      <td>20150101</td>\n",
       "      <td>3.4</td>\n",
       "      <td>51.1</td>\n",
       "      <td>0.1</td>\n",
       "    </tr>\n",
       "    <tr>\n",
       "      <th>1</th>\n",
       "      <td>20150102</td>\n",
       "      <td>3.1</td>\n",
       "      <td>53.6</td>\n",
       "      <td>0.0</td>\n",
       "    </tr>\n",
       "    <tr>\n",
       "      <th>2</th>\n",
       "      <td>20150103</td>\n",
       "      <td>3.7</td>\n",
       "      <td>59.6</td>\n",
       "      <td>-9.0</td>\n",
       "    </tr>\n",
       "    <tr>\n",
       "      <th>3</th>\n",
       "      <td>20150104</td>\n",
       "      <td>3.1</td>\n",
       "      <td>68.8</td>\n",
       "      <td>-9.0</td>\n",
       "    </tr>\n",
       "    <tr>\n",
       "      <th>4</th>\n",
       "      <td>20150105</td>\n",
       "      <td>6.5</td>\n",
       "      <td>79.4</td>\n",
       "      <td>2.0</td>\n",
       "    </tr>\n",
       "  </tbody>\n",
       "</table>\n",
       "</div>"
      ],
      "text/plain": [
       "         TM  CA_TOT  HM_AVG  RN_DAY\n",
       "0  20150101     3.4    51.1     0.1\n",
       "1  20150102     3.1    53.6     0.0\n",
       "2  20150103     3.7    59.6    -9.0\n",
       "3  20150104     3.1    68.8    -9.0\n",
       "4  20150105     6.5    79.4     2.0"
      ]
     },
     "execution_count": 21,
     "metadata": {},
     "output_type": "execute_result"
    }
   ],
   "source": [
    "df = pd.DataFrame(mydata)\n",
    "df.head()"
   ]
  },
  {
   "cell_type": "code",
   "execution_count": 22,
   "metadata": {},
   "outputs": [
    {
     "data": {
      "text/html": [
       "<div>\n",
       "<style scoped>\n",
       "    .dataframe tbody tr th:only-of-type {\n",
       "        vertical-align: middle;\n",
       "    }\n",
       "\n",
       "    .dataframe tbody tr th {\n",
       "        vertical-align: top;\n",
       "    }\n",
       "\n",
       "    .dataframe thead th {\n",
       "        text-align: right;\n",
       "    }\n",
       "</style>\n",
       "<table border=\"1\" class=\"dataframe\">\n",
       "  <thead>\n",
       "    <tr style=\"text-align: right;\">\n",
       "      <th></th>\n",
       "      <th>TM</th>\n",
       "      <th>CA_TOT</th>\n",
       "      <th>HM_AVG</th>\n",
       "      <th>RN_DAY</th>\n",
       "    </tr>\n",
       "  </thead>\n",
       "  <tbody>\n",
       "    <tr>\n",
       "      <th>count</th>\n",
       "      <td>3.650000e+02</td>\n",
       "      <td>365.000000</td>\n",
       "      <td>365.000000</td>\n",
       "      <td>365.000000</td>\n",
       "    </tr>\n",
       "    <tr>\n",
       "      <th>mean</th>\n",
       "      <td>2.015067e+07</td>\n",
       "      <td>5.098356</td>\n",
       "      <td>59.019178</td>\n",
       "      <td>-3.671507</td>\n",
       "    </tr>\n",
       "    <tr>\n",
       "      <th>std</th>\n",
       "      <td>3.454755e+02</td>\n",
       "      <td>3.066515</td>\n",
       "      <td>14.973743</td>\n",
       "      <td>8.922004</td>\n",
       "    </tr>\n",
       "    <tr>\n",
       "      <th>min</th>\n",
       "      <td>2.015010e+07</td>\n",
       "      <td>0.000000</td>\n",
       "      <td>28.900000</td>\n",
       "      <td>-9.000000</td>\n",
       "    </tr>\n",
       "    <tr>\n",
       "      <th>25%</th>\n",
       "      <td>2.015040e+07</td>\n",
       "      <td>2.600000</td>\n",
       "      <td>48.000000</td>\n",
       "      <td>-9.000000</td>\n",
       "    </tr>\n",
       "    <tr>\n",
       "      <th>50%</th>\n",
       "      <td>2.015070e+07</td>\n",
       "      <td>5.000000</td>\n",
       "      <td>59.400000</td>\n",
       "      <td>-9.000000</td>\n",
       "    </tr>\n",
       "    <tr>\n",
       "      <th>75%</th>\n",
       "      <td>2.015100e+07</td>\n",
       "      <td>7.800000</td>\n",
       "      <td>70.000000</td>\n",
       "      <td>0.500000</td>\n",
       "    </tr>\n",
       "    <tr>\n",
       "      <th>max</th>\n",
       "      <td>2.015123e+07</td>\n",
       "      <td>10.000000</td>\n",
       "      <td>96.500000</td>\n",
       "      <td>45.500000</td>\n",
       "    </tr>\n",
       "  </tbody>\n",
       "</table>\n",
       "</div>"
      ],
      "text/plain": [
       "                 TM      CA_TOT      HM_AVG      RN_DAY\n",
       "count  3.650000e+02  365.000000  365.000000  365.000000\n",
       "mean   2.015067e+07    5.098356   59.019178   -3.671507\n",
       "std    3.454755e+02    3.066515   14.973743    8.922004\n",
       "min    2.015010e+07    0.000000   28.900000   -9.000000\n",
       "25%    2.015040e+07    2.600000   48.000000   -9.000000\n",
       "50%    2.015070e+07    5.000000   59.400000   -9.000000\n",
       "75%    2.015100e+07    7.800000   70.000000    0.500000\n",
       "max    2.015123e+07   10.000000   96.500000   45.500000"
      ]
     },
     "execution_count": 22,
     "metadata": {},
     "output_type": "execute_result"
    }
   ],
   "source": [
    "df.describe()"
   ]
  },
  {
   "cell_type": "code",
   "execution_count": 25,
   "metadata": {},
   "outputs": [
    {
     "data": {
      "text/plain": [
       "DescribeResult(nobs=365, minmax=(array([ 2.0150101e+07,  0.0000000e+00,  2.8900000e+01, -9.0000000e+00]), array([2.0151231e+07, 1.0000000e+01, 9.6500000e+01, 4.5500000e+01])), mean=array([ 2.01506683e+07,  5.09835616e+00,  5.90191781e+01, -3.67150685e+00]), variance=array([1.19353296e+05, 9.40351377e+00, 2.24212983e+02, 7.96021529e+01]), skewness=array([-0.01069441, -0.04127374,  0.08465603,  2.34500701]), kurtosis=array([-1.20571404, -1.16737904, -0.60915828,  7.10336469]))"
      ]
     },
     "execution_count": 25,
     "metadata": {},
     "output_type": "execute_result"
    }
   ],
   "source": [
    "import scipy as sp \n",
    "\n",
    "sp.stats.describe(mydata)"
   ]
  },
  {
   "cell_type": "markdown",
   "metadata": {},
   "source": [
    "#### Boxplot"
   ]
  },
  {
   "cell_type": "code",
   "execution_count": 26,
   "metadata": {},
   "outputs": [
    {
     "data": {
      "text/plain": [
       "<AxesSubplot:>"
      ]
     },
     "execution_count": 26,
     "metadata": {},
     "output_type": "execute_result"
    },
    {
     "name": "stderr",
     "output_type": "stream",
     "text": [
      "c:\\Users\\admin\\AppData\\Local\\Programs\\Python\\Python310\\lib\\site-packages\\IPython\\core\\pylabtools.py:151: UserWarning: Glyph 8722 (\\N{MINUS SIGN}) missing from current font.\n",
      "  fig.canvas.print_figure(bytes_io, **kw)\n"
     ]
    },
    {
     "data": {
      "image/png": "[encoded data removed]",
      "text/plain": [
       "<Figure size 432x288 with 1 Axes>"
      ]
     },
     "metadata": {
      "needs_background": "light"
     },
     "output_type": "display_data"
    }
   ],
   "source": [
    "mydata.boxplot(column='RN_DAY')"
   ]
  },
  {
   "cell_type": "code",
   "execution_count": 28,
   "metadata": {},
   "outputs": [
    {
     "data": {
      "text/plain": [
       "<AxesSubplot:>"
      ]
     },
     "execution_count": 28,
     "metadata": {},
     "output_type": "execute_result"
    },
    {
     "data": {
      "image/png": "[encoded data removed]",
      "text/plain": [
       "<Figure size 432x288 with 1 Axes>"
      ]
     },
     "metadata": {
      "needs_background": "light"
     },
     "output_type": "display_data"
    }
   ],
   "source": [
    "mydata.boxplot(column=['CA_TOT', 'HM_AVG', 'RN_DAY'])"
   ]
  }
 ],
 "metadata": {
  "kernelspec": {
   "display_name": "Python 3.10.5 64-bit",
   "language": "python",
   "name": "python3"
  },
  "language_info": {
   "codemirror_mode": {
    "name": "ipython",
    "version": 3
   },
   "file_extension": ".py",
   "mimetype": "text/x-python",
   "name": "python",
   "nbconvert_exporter": "python",
   "pygments_lexer": "ipython3",
   "version": "3.10.5"
  },
  "orig_nbformat": 4,
  "vscode": {
   "interpreter": {
    "hash": "beedbe2faf2f7048d727558d0bc3221e7eba2a0b921cac4d4771b2feb8f74b30"
   }
  }
 },
 "nbformat": 4,
 "nbformat_minor": 2
}
